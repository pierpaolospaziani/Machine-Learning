{
 "cells": [
  {
   "cell_type": "markdown",
   "id": "a7f8324f-0025-4150-952f-d7e8539d287f",
   "metadata": {},
   "source": [
    "# Mountain Car\n",
    "### Pierpaolo Spaziani - 0316331"
   ]
  },
  {
   "cell_type": "code",
   "execution_count": 60,
   "id": "9b4bb5ac-53a2-41ac-baac-725850ef1ac0",
   "metadata": {},
   "outputs": [],
   "source": [
    "import gym\n",
    "import numpy as np\n",
    "import imageio"
   ]
  },
  {
   "cell_type": "code",
   "execution_count": 61,
   "id": "da6a433c-9bf1-417e-974c-75394cc5ca85",
   "metadata": {},
   "outputs": [],
   "source": [
    "# In the gym library there is a deprecation about NumPy\n",
    "import warnings\n",
    "warnings.filterwarnings(\"ignore\", category=np.VisibleDeprecationWarning)\n",
    "warnings.filterwarnings(\"ignore\", category=DeprecationWarning, module=\"gym.utils.passive_env_checker\")"
   ]
  },
  {
   "cell_type": "markdown",
   "id": "333c5907-30bc-4ac4-9253-e2c18f88d4b8",
   "metadata": {},
   "source": [
    "### Parameters"
   ]
  },
  {
   "cell_type": "code",
   "execution_count": 68,
   "id": "15b4d6d0-df37-475d-857c-6312aef93a75",
   "metadata": {},
   "outputs": [],
   "source": [
    "LEARNING_RATE = 0.1\n",
    "DISCOUNT = 0.95\n",
    "EPISODES = 2000\n",
    "\n",
    "DISCRETE_SIZE = 20\n",
    "\n",
    "RENDER = False\n",
    "SHOW_EVERY = 2"
   ]
  },
  {
   "cell_type": "code",
   "execution_count": 69,
   "id": "21a87d3c-84ff-475f-9cc9-5601289e95e4",
   "metadata": {},
   "outputs": [],
   "source": [
    "if RENDER:\n",
    "    env = gym.make(\"MountainCar-v0\", render_mode=\"rgb_array_list\")\n",
    "else:\n",
    "    env = gym.make(\"MountainCar-v0\")"
   ]
  },
  {
   "cell_type": "markdown",
   "id": "3e84d085-2494-470f-9e4e-71dc484f2a93",
   "metadata": {},
   "source": [
    "### Discretization\n",
    "In the presence of *continuous states* it is convenient to **discretize** for several reasons:\n",
    "- Limit the state space\n",
    "- Memory management\n",
    "- Faster training\n",
    "- Generalization"
   ]
  },
  {
   "cell_type": "code",
   "execution_count": 70,
   "id": "4ea12241-4ad0-4d88-9fa2-59274aa1e238",
   "metadata": {},
   "outputs": [],
   "source": [
    "chunk_size = (env.observation_space.high - env.observation_space.low) / DISCRETE_SIZE\n",
    "\n",
    "def get_discrete_state(state):\n",
    "    discrete_state = (state - env.observation_space.low) / chunk_size\n",
    "    return tuple(discrete_state.astype(int))"
   ]
  },
  {
   "cell_type": "markdown",
   "id": "78f1b49a-ba96-4d80-a47b-5c51ada17332",
   "metadata": {},
   "source": [
    "### Q-Learning\n",
    "\n",
    "Initialization of the Q-table and definition of the update algorithm:"
   ]
  },
  {
   "cell_type": "code",
   "execution_count": 74,
   "id": "da5b84b1-3025-4dec-9cdf-ff2aecf75dae",
   "metadata": {},
   "outputs": [],
   "source": [
    "q_table = np.zeros((DISCRETE_SIZE, DISCRETE_SIZE, env.action_space.n))\n",
    "\n",
    "def q_learning():\n",
    "    pass"
   ]
  },
  {
   "cell_type": "code",
   "execution_count": 72,
   "id": "0eab79de-51c4-4eda-abec-b98b7455e679",
   "metadata": {},
   "outputs": [],
   "source": [
    "def simulate():\n",
    "    for episode in range(EPISODES):\n",
    "        print(\"Episode:\", episode, end=\"\\r\")\n",
    "        \n",
    "        env.reset()\n",
    "    \n",
    "        if (RENDER and episode % SHOW_EVERY == 0):\n",
    "            render = True\n",
    "        else:\n",
    "            render = False\n",
    "    \n",
    "        discrete_state = get_discrete_state(env.state)\n",
    "        \n",
    "        done = False\n",
    "        while not done:\n",
    "    \n",
    "            action = np.argmax(q_table[discrete_state])\n",
    "            observation, reward, terminated, truncated, info = env.step(action)\n",
    "            new_discrete_state = get_discrete_state(observation)\n",
    "        \n",
    "            done = terminated or truncated\n",
    "            if not done:\n",
    "                max_future_q = np.max(q_table[new_discrete_state])\n",
    "                current_q = q_table[discrete_state + (action, )]\n",
    "                new_q = (1 - LEARNING_RATE) * current_q + LEARNING_RATE * (reward + DISCOUNT * max_future_q)\n",
    "                q_table[discrete_state + (action, )] = new_q\n",
    "            elif terminated:\n",
    "                print(f\"Congratulation! We reached to the goal! Episode: {episode}\")\n",
    "                q_table[discrete_state + (action, )] = 0 # ----------------------------------------> SECONDO ME QUESTO VA TOLTO\n",
    "    \n",
    "            discrete_state = new_discrete_state\n",
    "            \n",
    "        if render:\n",
    "            imageio.mimsave(f'./gifs/{episode}.gif', env.render(), fps=30)\n",
    "    \n",
    "    env.close()"
   ]
  },
  {
   "cell_type": "code",
   "execution_count": null,
   "id": "7e63d0bc-a425-4e31-ab4f-1ea19d1bb307",
   "metadata": {},
   "outputs": [],
   "source": [
    "simulate()"
   ]
  },
  {
   "cell_type": "code",
   "execution_count": null,
   "id": "09603eae-7139-4897-bf55-6b73e7ad9b91",
   "metadata": {},
   "outputs": [],
   "source": []
  }
 ],
 "metadata": {
  "kernelspec": {
   "display_name": "Python 3 (ipykernel)",
   "language": "python",
   "name": "python3"
  },
  "language_info": {
   "codemirror_mode": {
    "name": "ipython",
    "version": 3
   },
   "file_extension": ".py",
   "mimetype": "text/x-python",
   "name": "python",
   "nbconvert_exporter": "python",
   "pygments_lexer": "ipython3",
   "version": "3.11.7"
  }
 },
 "nbformat": 4,
 "nbformat_minor": 5
}
