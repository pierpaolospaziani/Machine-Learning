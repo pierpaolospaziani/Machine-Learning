{
 "cells": [
  {
   "cell_type": "markdown",
   "id": "a7f8324f-0025-4150-952f-d7e8539d287f",
   "metadata": {},
   "source": [
    "# Mountain Car\n",
    "### Pierpaolo Spaziani - 0316331"
   ]
  },
  {
   "cell_type": "code",
   "execution_count": 23,
   "id": "9b4bb5ac-53a2-41ac-baac-725850ef1ac0",
   "metadata": {},
   "outputs": [],
   "source": [
    "import gym\n",
    "import numpy as np\n",
    "import imageio\n",
    "import random\n",
    "import math\n",
    "import matplotlib.pyplot as plt"
   ]
  },
  {
   "cell_type": "code",
   "execution_count": 24,
   "id": "da6a433c-9bf1-417e-974c-75394cc5ca85",
   "metadata": {},
   "outputs": [],
   "source": [
    "# In the gym library there is a deprecation about NumPy\n",
    "import warnings\n",
    "warnings.filterwarnings(\"ignore\", category=np.VisibleDeprecationWarning)\n",
    "warnings.filterwarnings(\"ignore\", category=DeprecationWarning, module=\"gym.utils.passive_env_checker\")"
   ]
  },
  {
   "cell_type": "markdown",
   "id": "333c5907-30bc-4ac4-9253-e2c18f88d4b8",
   "metadata": {},
   "source": [
    "### Parameters"
   ]
  },
  {
   "cell_type": "code",
   "execution_count": 58,
   "id": "15b4d6d0-df37-475d-857c-6312aef93a75",
   "metadata": {},
   "outputs": [],
   "source": [
    "LEARNING_RATE = 0.1\n",
    "DISCOUNT = 0.95\n",
    "EPSILON = 1\n",
    "# EPSILON_DECAY: 0 for linear - 1 for exponential\n",
    "\n",
    "EPISODES = 10000\n",
    "\n",
    "DISCRETE_SIZE = 20\n",
    "\n",
    "RENDER = False\n",
    "SHOW_EVERY = 2"
   ]
  },
  {
   "cell_type": "code",
   "execution_count": 41,
   "id": "21a87d3c-84ff-475f-9cc9-5601289e95e4",
   "metadata": {},
   "outputs": [],
   "source": [
    "if RENDER:\n",
    "    env = gym.make(\"MountainCar-v0\", render_mode=\"rgb_array_list\")\n",
    "else:\n",
    "    env = gym.make(\"MountainCar-v0\")"
   ]
  },
  {
   "cell_type": "markdown",
   "id": "3e84d085-2494-470f-9e4e-71dc484f2a93",
   "metadata": {},
   "source": [
    "### Discretization\n",
    "In the presence of *continuous states* it is convenient to **discretize** for several reasons:\n",
    "- Limit the state space\n",
    "- Memory management\n",
    "- Faster training\n",
    "- Generalization"
   ]
  },
  {
   "cell_type": "code",
   "execution_count": 42,
   "id": "4ea12241-4ad0-4d88-9fa2-59274aa1e238",
   "metadata": {},
   "outputs": [],
   "source": [
    "chunk_size = (env.observation_space.high - env.observation_space.low) / DISCRETE_SIZE\n",
    "\n",
    "def get_discrete_state(state):\n",
    "    discrete_state = (state - env.observation_space.low) / chunk_size\n",
    "    return tuple(discrete_state.astype(int))"
   ]
  },
  {
   "cell_type": "markdown",
   "id": "c12e8da5-fec4-4e2b-8fb9-34153fff6932",
   "metadata": {},
   "source": [
    "### ε-Greedy\n",
    "\n",
    "Implementation of the **ε-Greedy** policy for *exploration-exploitation trade-off* with 2 types of decay:\n",
    "- *linear decay*\n",
    "- *exponential decay*"
   ]
  },
  {
   "cell_type": "code",
   "execution_count": 43,
   "id": "aa8977a0-d9b5-4c47-957f-0841133d81d3",
   "metadata": {},
   "outputs": [],
   "source": [
    "def epsilon_greedy(epsilon):\n",
    "    if random.uniform(0, 1) < epsilon:\n",
    "        # takes a random action\n",
    "        return random.choice(range(env.action_space.n))\n",
    "    else:\n",
    "        # takes the \"best\" action\n",
    "        return -1\n",
    "\n",
    "epsilon_hystory = []\n",
    "\n",
    "def linear_decay(epsilon):\n",
    "    decay_rate = EPSILON / EPISODES\n",
    "    epsilon = epsilon - decay_rate\n",
    "    epsilon_hystory.append(epsilon)\n",
    "    return max(0, epsilon)\n",
    "\n",
    "def exponential_decay(episode):\n",
    "    alpha = -math.log(0.01) / (EPISODES)\n",
    "    epsilon = EPSILON * math.exp(-alpha * episode)\n",
    "    epsilon_hystory.append(epsilon)\n",
    "    return max(0, epsilon)\n"
   ]
  },
  {
   "cell_type": "markdown",
   "id": "78f1b49a-ba96-4d80-a47b-5c51ada17332",
   "metadata": {},
   "source": [
    "### Q-Learning\n",
    "\n",
    "Implementation of the solution based on **Q-Learning**:"
   ]
  },
  {
   "cell_type": "code",
   "execution_count": 44,
   "id": "0eab79de-51c4-4eda-abec-b98b7455e679",
   "metadata": {},
   "outputs": [],
   "source": [
    "q_table = np.zeros((DISCRETE_SIZE, DISCRETE_SIZE, env.action_space.n))\n",
    "\n",
    "def q_learning(EPSILON_DECAY):\n",
    "    epsilon = EPSILON\n",
    "    howmany = 0\n",
    "    q_learning_list = []\n",
    "    for episode in range(EPISODES):\n",
    "        print(\"Episode:\", episode, end=\"\\r\")\n",
    "        \n",
    "        env.reset()\n",
    "    \n",
    "        if (RENDER and episode % SHOW_EVERY == 0):\n",
    "            render = True\n",
    "        else:\n",
    "            render = False\n",
    "    \n",
    "        discrete_state = get_discrete_state(env.state)\n",
    "\n",
    "        if EPSILON_DECAY == 0:\n",
    "            epsilon = linear_decay(epsilon)\n",
    "        else:\n",
    "            epsilon = exponential_decay(episode)\n",
    "        \n",
    "        done = False\n",
    "        while not done:\n",
    "            \n",
    "            # select an action following the epsilon-greedy policy\n",
    "            action = epsilon_greedy(epsilon)\n",
    "            if action < 0:\n",
    "                action = np.argmax(q_table[discrete_state])\n",
    "            observation, reward, terminated, truncated, info = env.step(action)\n",
    "            new_discrete_state = get_discrete_state(observation)\n",
    "        \n",
    "            done = terminated or truncated\n",
    "            if not done:\n",
    "                max_future_q = np.max(q_table[new_discrete_state])\n",
    "                current_q = q_table[discrete_state + (action, )]\n",
    "                new_q = (1 - LEARNING_RATE) * current_q + LEARNING_RATE * (reward + DISCOUNT * max_future_q)\n",
    "                q_table[discrete_state + (action, )] = new_q\n",
    "            elif terminated:\n",
    "                howmany = howmany + 1\n",
    "                #print(f\"Congratulation! We reached to the goal! Episode: {episode}\")\n",
    "                #q_table[discrete_state + (action, )] = 0 # ----------------------------------------> SECONDO ME QUESTO VA TOLTO\n",
    "    \n",
    "            discrete_state = new_discrete_state\n",
    "        q_learning_list.append(howmany)\n",
    "            \n",
    "        if render:\n",
    "            imageio.mimsave(f'./gifs/{episode}.gif', env.render(), fps=30)\n",
    "    \n",
    "    env.close()\n",
    "    return q_learning_list"
   ]
  },
  {
   "cell_type": "code",
   "execution_count": 45,
   "id": "d072b3e0-ffcc-4df1-b135-4aedc7a8bca4",
   "metadata": {},
   "outputs": [],
   "source": [
    "q_table = np.zeros((DISCRETE_SIZE, DISCRETE_SIZE, env.action_space.n))\n",
    "\n",
    "def SARSA(EPSILON_DECAY):\n",
    "    epsilon = EPSILON\n",
    "    howmany = 0\n",
    "    sarsa_list = []\n",
    "    for episode in range(EPISODES):\n",
    "        print(\"Episode:\", episode, end=\"\\r\")\n",
    "        \n",
    "        env.reset()\n",
    "    \n",
    "        if (RENDER and episode % SHOW_EVERY == 0):\n",
    "            render = True\n",
    "        else:\n",
    "            render = False\n",
    "    \n",
    "        discrete_state = get_discrete_state(env.state)\n",
    "\n",
    "        if EPSILON_DECAY == 0:\n",
    "            epsilon = linear_decay(epsilon)\n",
    "        else:\n",
    "            epsilon = exponential_decay(episode)\n",
    "        \n",
    "        # select an action following the epsilon-greedy policy\n",
    "        action = epsilon_greedy(epsilon)\n",
    "        if action < 0:\n",
    "            action = np.argmax(q_table[discrete_state])\n",
    "        \n",
    "        done = False\n",
    "        while not done:\n",
    "                \n",
    "            observation, reward, terminated, truncated, info = env.step(action)\n",
    "            new_discrete_state = get_discrete_state(observation)\n",
    "\n",
    "            # Select a new action following the epsilon-greedy policy\n",
    "            new_action = epsilon_greedy(epsilon)\n",
    "            if new_action < 0:\n",
    "                new_action = np.argmax(q_table[new_discrete_state])\n",
    "        \n",
    "            done = terminated or truncated\n",
    "            if not done:                \n",
    "                new_q = q_table[new_discrete_state + (new_action, )]\n",
    "                current_q = q_table[discrete_state + (action, )]\n",
    "                updated_q = (1 - LEARNING_RATE) * current_q + LEARNING_RATE * (reward + DISCOUNT * new_q)\n",
    "                q_table[discrete_state + (action, )] = updated_q\n",
    "                \n",
    "            elif terminated:\n",
    "                howmany = howmany + 1\n",
    "                #print(f\"Congratulation! We reached to the goal! Episode: {episode}\")\n",
    "    \n",
    "            discrete_state = new_discrete_state\n",
    "            action = new_action\n",
    "        sarsa_list.append(howmany)\n",
    "            \n",
    "        if render:\n",
    "            imageio.mimsave(f'./gifs/{episode}.gif', env.render(), fps=30)\n",
    "    \n",
    "    env.close()\n",
    "    return sarsa_list"
   ]
  },
  {
   "cell_type": "code",
   "execution_count": 59,
   "id": "7e63d0bc-a425-4e31-ab4f-1ea19d1bb307",
   "metadata": {},
   "outputs": [
    {
     "name": "stdout",
     "output_type": "stream",
     "text": [
      "Ci sono stati 5495 successi!\n"
     ]
    }
   ],
   "source": [
    "q_learning_list = q_learning(1)\n",
    "print(\"Ci sono stati\", q_learning_list[-1], \"successi!\")"
   ]
  },
  {
   "cell_type": "code",
   "execution_count": 60,
   "id": "3c6141a3-8eac-46ec-8db6-4dec338f1484",
   "metadata": {},
   "outputs": [
    {
     "name": "stdout",
     "output_type": "stream",
     "text": [
      "Ci sono stati 7923 successi!\n"
     ]
    }
   ],
   "source": [
    "sarsa_list = SARSA(1)\n",
    "print(\"Ci sono stati\", sarsa_list[-1], \"successi!\")"
   ]
  },
  {
   "cell_type": "code",
   "execution_count": 61,
   "id": "1710f90f-307f-42b4-a217-a556d78fbe72",
   "metadata": {},
   "outputs": [
    {
     "data": {
      "image/png": "[encoded data removed]",
      "text/plain": [
       "<Figure size 640x480 with 1 Axes>"
      ]
     },
     "metadata": {},
     "output_type": "display_data"
    }
   ],
   "source": [
    "plt.plot(q_learning_list, label='Q-Learning')\n",
    "plt.plot(sarsa_list, label='SARSA')\n",
    "plt.xlabel('Episode')\n",
    "plt.ylabel('Sum of successes')\n",
    "plt.legend()\n",
    "plt.grid(True)\n",
    "plt.show()"
   ]
  },
  {
   "cell_type": "code",
   "execution_count": null,
   "id": "673b5cf5-29e7-4024-aacd-60f1ab57e3d7",
   "metadata": {},
   "outputs": [],
   "source": [
    "plt.plot(epsilon_hystory, label='epsilon')\n",
    "plt.xlabel('Episode')\n",
    "plt.ylabel('Value')\n",
    "plt.title('Epsilon decay')\n",
    "plt.legend()\n",
    "plt.grid(True)\n",
    "plt.show()"
   ]
  },
  {
   "cell_type": "code",
   "execution_count": null,
   "id": "5de3dbef-92b1-4cee-bbc3-1ecf3c69fd76",
   "metadata": {},
   "outputs": [],
   "source": []
  }
 ],
 "metadata": {
  "kernelspec": {
   "display_name": "Python 3 (ipykernel)",
   "language": "python",
   "name": "python3"
  },
  "language_info": {
   "codemirror_mode": {
    "name": "ipython",
    "version": 3
   },
   "file_extension": ".py",
   "mimetype": "text/x-python",
   "name": "python",
   "nbconvert_exporter": "python",
   "pygments_lexer": "ipython3",
   "version": "3.11.7"
  }
 },
 "nbformat": 4,
 "nbformat_minor": 5
}
